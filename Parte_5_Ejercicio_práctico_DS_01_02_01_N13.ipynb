{
 "cells": [
  {
   "cell_type": "markdown",
   "metadata": {
    "id": "9l3HMgm6RWxF"
   },
   "source": [
    "![TheBridge_logo_RGB_color.jpg](attachment:TheBridge_logo_RGB_color.jpg)"
   ]
  },
  {
   "cell_type": "markdown",
   "metadata": {
    "id": "RGg9iWpoRWxG"
   },
   "source": [
    "![ejercicios.png](attachment:ejercicios.png)"
   ]
  },
  {
   "cell_type": "markdown",
   "metadata": {
    "id": "AyOlWS2nRWxH"
   },
   "source": [
    "## PRACTICA OBLIGATORIA: COLECCIONES Y FUNCIONES"
   ]
  },
  {
   "cell_type": "markdown",
   "metadata": {
    "id": "6UOgb0KVRWxH"
   },
   "source": [
    "* La práctica obligatoria de esta unidad consiste varios ejercicios de programación libre a completar sobre Colecciones y Funciones. Descarga este notebook en tu ordenador y trabaja en local.  \n",
    "* Recuerda que debes subirla a tu repositorio personal antes de la sesión en vivo para que puntúe adecuadamente y puedas participar en dicha sesión.  \n",
    "* Recuerda también que no es necesario que esté perfecta, sólo es necesario que se vea el esfuerzo.\n",
    "* Esta práctica se resolverá en la sesión en vivo correspondiente y la solución se publicará en el repo del curso."
   ]
  },
  {
   "cell_type": "markdown",
   "metadata": {
    "id": "j3yu-tEjRWxH"
   },
   "source": [
    "### Contenidos"
   ]
  },
  {
   "cell_type": "markdown",
   "metadata": {
    "id": "kO-fLH39RWxH"
   },
   "source": [
    "## Ejercicio 1\n",
    "Eleva todos los elementos de la lista al cuadrado\n",
    "> ```ejer_2 = [1,2,3,4,5]```"
   ]
  },
  {
   "cell_type": "code",
   "execution_count": 5,
   "metadata": {
    "id": "ks5l3yi7RWxH"
   },
   "outputs": [
    {
     "name": "stdout",
     "output_type": "stream",
     "text": [
      "[1, 4, 9, 16, 25]\n"
     ]
    }
   ],
   "source": [
    "ejer_2 = [1,2,3,4,5]\n",
    "lista_al_cuadrado = [x**2 for x in ejer_2]\n",
    "print(lista_al_cuadrado)"
   ]
  },
  {
   "cell_type": "markdown",
   "metadata": {
    "id": "kI_Xr5oFRWxI"
   },
   "source": [
    "## Ejercicio 2\n",
    "Haz un programa que detecte todos los duplicados de un elemento en una lista:\n",
    "* Utiliza una variable duplicado para asignarle el valor del elemento del que queremos encontrar todos sus duplicados.\n",
    "* El programa debe devolver todos los índices de los elementos duplicados.\n",
    "* Aplícalo para encontrar los duplicados de \"un\", \"es\" y \"binario\" de:  \n",
    "\n",
    ">```ejer_3 = [\"Un\", \"árbol\", \"binario\", \"es\", \"una\", \"estructura\", \"de\", \"un\", \"tipo\", \"particular\", \"a\", \"veces\", \"no\", \"es\", \"ni\", \"binario\"]```\n"
   ]
  },
  {
   "cell_type": "code",
   "execution_count": 118,
   "metadata": {
    "id": "cLY9WB7YRWxI"
   },
   "outputs": [],
   "source": [
    "ejer_3 = [\"Un\", \"árbol\", \"binario\", \"es\", \"una\", \"estructura\", \"de\", \"un\", \"tipo\", \"particular\", \"a\", \"veces\", \"no\", \"es\", \"ni\", \"binario\"]"
   ]
  },
  {
   "cell_type": "code",
   "execution_count": 122,
   "metadata": {},
   "outputs": [],
   "source": [
    "def duplicados(valor):\n",
    "    if valor == valor:\n",
    "        print(\"Hay duplicados\")\n",
    "    else:\n",
    "        print(\"No hay duplicados\")\n"
   ]
  },
  {
   "cell_type": "code",
   "execution_count": 127,
   "metadata": {},
   "outputs": [
    {
     "name": "stdout",
     "output_type": "stream",
     "text": [
      "Hay duplicados\n"
     ]
    }
   ],
   "source": [
    "resultado = duplicados(ejer_3)"
   ]
  },
  {
   "cell_type": "code",
   "execution_count": 108,
   "metadata": {},
   "outputs": [],
   "source": [
    "def id_duplicados(valor):\n",
    "    if valor == \"un\" or \"es\" or \"binario\":\n",
    "        return(valor)\n",
    "    else:\n",
    "        return(\"Ninguno\")"
   ]
  },
  {
   "cell_type": "code",
   "execution_count": 104,
   "metadata": {},
   "outputs": [
    {
     "name": "stdout",
     "output_type": "stream",
     "text": [
      "5\n"
     ]
    }
   ],
   "source": [
    "duplicados = id_duplicados(ejer_3)\n",
    "print(duplicados)"
   ]
  },
  {
   "cell_type": "markdown",
   "metadata": {
    "id": "3WrBd5QaRWxI"
   },
   "source": [
    "## Ejercicio 3\n",
    "1. ¿Cuántas veces se repite el 3 en la siguiente tupla?\n",
    "2. Crea una tupla nueva con los elementos desde la posicion 5 a la 10.\n",
    "3. ¿Cuántos elementos tiene la tupla `ejer_3`?\n",
    "> ```ejer_9 = (3, 20, 3, 47, 19, 3, 29, 45, 67, 78, 90, 3, 3, 5, 2, 4, 7, 9, 4, 2, 4, 3, 3, 4, 6, 7)```"
   ]
  },
  {
   "cell_type": "code",
   "execution_count": 7,
   "metadata": {
    "id": "bkv_R5LYRWxI"
   },
   "outputs": [
    {
     "name": "stdout",
     "output_type": "stream",
     "text": [
      "7\n"
     ]
    }
   ],
   "source": [
    "ejer_9 = (3, 20, 3, 47, 19, 3, 29, 45, 67, 78, 90, 3, 3, 5, 2, 4, 7, 9, 4, 2, 4, 3, 3, 4, 6, 7)\n",
    "contar_3 = ejer_9.count(3)\n",
    "print(contar_3)    "
   ]
  },
  {
   "cell_type": "code",
   "execution_count": 5,
   "metadata": {},
   "outputs": [
    {
     "name": "stdout",
     "output_type": "stream",
     "text": [
      "(3, 29, 45, 67, 78, 90)\n"
     ]
    }
   ],
   "source": [
    "ejer_9 = (3, 20, 3, 47, 19, 3, 29, 45, 67, 78, 90, 3, 3, 5, 2, 4, 7, 9, 4, 2, 4, 3, 3, 4, 6, 7)\n",
    "tupla_nueva = ejer_9[5:11]\n",
    "print(tupla_nueva)"
   ]
  },
  {
   "cell_type": "code",
   "execution_count": 6,
   "metadata": {},
   "outputs": [
    {
     "name": "stdout",
     "output_type": "stream",
     "text": [
      "16\n"
     ]
    }
   ],
   "source": [
    "ejer_3 = [\"Un\", \"árbol\", \"binario\", \"es\", \"una\", \"estructura\", \"de\", \"un\", \"tipo\", \"particular\", \"a\", \"veces\", \"no\", \"es\", \"ni\", \"binario\"]\n",
    "num_elementos = len(ejer_3)\n",
    "print(num_elementos)"
   ]
  },
  {
   "cell_type": "markdown",
   "metadata": {
    "id": "6g8Y54AeRWxI"
   },
   "source": [
    "## Ejercicio 4\n",
    "Comprueba si el numero 60 esta en la tupla del ejercicio 3"
   ]
  },
  {
   "cell_type": "code",
   "execution_count": 9,
   "metadata": {
    "id": "F8VTEZonRWxI"
   },
   "outputs": [
    {
     "name": "stdout",
     "output_type": "stream",
     "text": [
      "0\n"
     ]
    }
   ],
   "source": [
    "ejer_9 = (3, 20, 3, 47, 19, 3, 29, 45, 67, 78, 90, 3, 3, 5, 2, 4, 7, 9, 4, 2, 4, 3, 3, 4, 6, 7)\n",
    "num_60 = ejer_9.count(60)\n",
    "print(num_60)\n",
    "\n",
    "#print(ejer_9.index(60))"
   ]
  },
  {
   "cell_type": "markdown",
   "metadata": {
    "id": "y0fg-ZA6RWxI"
   },
   "source": [
    "## Ejercicio 5\n",
    "1. Convierte la tupla del ejercicio 3 en una lista\n",
    "2. Convierte la tupla del ejercicio 3 en un set\n",
    "3. Convierte la tupla del ejercicio 3 en un diccionario. Usa también los indices"
   ]
  },
  {
   "cell_type": "code",
   "execution_count": 10,
   "metadata": {
    "id": "_O5hXr01RWxI"
   },
   "outputs": [
    {
     "name": "stdout",
     "output_type": "stream",
     "text": [
      "[3, 20, 3, 47, 19, 3, 29, 45, 67, 78, 90, 3, 3, 5, 2, 4, 7, 9, 4, 2, 4, 3, 3, 4, 6, 7]\n"
     ]
    }
   ],
   "source": [
    "ejer_9 = (3, 20, 3, 47, 19, 3, 29, 45, 67, 78, 90, 3, 3, 5, 2, 4, 7, 9, 4, 2, 4, 3, 3, 4, 6, 7)\n",
    "convertidor_lista = list(ejer_9)\n",
    "print(convertidor_lista)"
   ]
  },
  {
   "cell_type": "code",
   "execution_count": 11,
   "metadata": {},
   "outputs": [
    {
     "name": "stdout",
     "output_type": "stream",
     "text": [
      "{2, 3, 67, 5, 4, 7, 6, 9, 45, 78, 47, 19, 20, 90, 29}\n"
     ]
    }
   ],
   "source": [
    "convertidor_set = set(ejer_9)\n",
    "print(convertidor_set)"
   ]
  },
  {
   "cell_type": "code",
   "execution_count": 10,
   "metadata": {},
   "outputs": [
    {
     "name": "stdout",
     "output_type": "stream",
     "text": [
      "{3: 22, 20: 1, 47: 3, 19: 4, 29: 6, 45: 7, 67: 8, 78: 9, 90: 10, 5: 13, 2: 19, 4: 23, 7: 25, 9: 17, 6: 24}\n"
     ]
    }
   ],
   "source": [
    "#convertidor_diccionario = dict(ejer_9)\n",
    "#print(convertidor_diccionario)\n",
    "\n",
    "diccionario = {}\n",
    "\n",
    "for indice, valor in enumerate(ejer_9):\n",
    "    diccionario[valor] = indice\n",
    "\n",
    "print(diccionario)  "
   ]
  },
  {
   "cell_type": "markdown",
   "metadata": {
    "id": "eOdWWbxvRWxJ"
   },
   "source": [
    "## Ejercicio 6\n",
    "Multiplica todos los valores del diccionario\n",
    "> ```ejer_6 = {1: 11, 2: 22, 3: 33, 4: 44, 5: 55}```"
   ]
  },
  {
   "cell_type": "code",
   "execution_count": 14,
   "metadata": {
    "id": "KcuByovKRWxJ"
   },
   "outputs": [
    {
     "name": "stdout",
     "output_type": "stream",
     "text": [
      "120\n"
     ]
    }
   ],
   "source": [
    "ejer_6 = {1: 11, 2: 22, 3: 33, 4: 44, 5: 55}\n",
    "resultado = 1\n",
    "\n",
    "for valor in ejer_6:\n",
    "        resultado *= valor\n",
    "print(resultado)"
   ]
  },
  {
   "cell_type": "markdown",
   "metadata": {
    "id": "W7TUSaKRRWxJ"
   },
   "source": [
    "## Ejercicio 7\n",
    "\n",
    "1. Crea un diccionario que describa un libro, con los siguientes campos o claves: \"titulo\",\"autor\",\"idioma original\",\"año de publicación\".\n",
    "2. Crea un a lista, llamada librería.\n",
    "3. Añade cuatro libros a tu elección a la librería."
   ]
  },
  {
   "cell_type": "code",
   "execution_count": 51,
   "metadata": {
    "id": "d-IMRvxRRWxJ",
    "vscode": {
     "languageId": "plaintext"
    }
   },
   "outputs": [
    {
     "name": "stdout",
     "output_type": "stream",
     "text": [
      "{'titulo': 'El señor de los Anillos', 'autor': 'J.R.R.Tolkien', 'idioma': 'ingles', 'año_publicacion': '1954'}\n"
     ]
    }
   ],
   "source": [
    "Libro_1 = {\n",
    "    \"titulo\": \"El señor de los Anillos\",\n",
    "    \"autor\": \"J.R.R.Tolkien\",\n",
    "    \"idioma\": \"ingles\",\n",
    "    \"año_publicacion\": \"1954\"\n",
    "}\n",
    "print(Libro_1)"
   ]
  },
  {
   "cell_type": "code",
   "execution_count": 52,
   "metadata": {},
   "outputs": [
    {
     "name": "stdout",
     "output_type": "stream",
     "text": [
      "{'titulo': 'El señor de los Anillos', 'autor': 'J.R.R.Tolkien', 'idioma': 'ingles', 'año_publicacion': '1954'} {'titulo': 'Las dos Torres', 'autor': 'J.R.R.Tolkien', 'idioma': 'ingles', 'año_publicacion': '1954'} {'titulo': 'El Retorno del Rey', 'autor': 'J.R.R.Tolkien', 'idioma': 'ingles', 'año_publicacion': '1954'} {'titulo': 'El Hobbit', 'autor': 'J.R.R.Tolkien', 'idioma': 'ingles', 'año_publicacion': '1954'}\n"
     ]
    }
   ],
   "source": [
    "Libro_2 = {\n",
    "    \"titulo\": \"Las dos Torres\",\n",
    "    \"autor\": \"J.R.R.Tolkien\",\n",
    "    \"idioma\": \"ingles\",\n",
    "    \"año_publicacion\": \"1954\"\n",
    "}\n",
    "\n",
    "Libro_3 = {\n",
    "    \"titulo\": \"El Retorno del Rey\",\n",
    "    \"autor\": \"J.R.R.Tolkien\",\n",
    "    \"idioma\": \"ingles\",\n",
    "    \"año_publicacion\": \"1954\"\n",
    "}\n",
    "\n",
    "Libro_4 = {\n",
    "\"titulo\": \"El Hobbit\",\n",
    "    \"autor\": \"J.R.R.Tolkien\",\n",
    "    \"idioma\": \"ingles\",\n",
    "    \"año_publicacion\": \"1954\"\n",
    "}\n",
    "\n",
    "print(Libro_1, Libro_2, Libro_3, Libro_4)"
   ]
  },
  {
   "cell_type": "code",
   "execution_count": 53,
   "metadata": {},
   "outputs": [
    {
     "name": "stdout",
     "output_type": "stream",
     "text": [
      "[{'titulo': 'El señor de los Anillos', 'autor': 'J.R.R.Tolkien', 'idioma': 'ingles', 'año_publicacion': '1954'}, {'titulo': 'Las dos Torres', 'autor': 'J.R.R.Tolkien', 'idioma': 'ingles', 'año_publicacion': '1954'}, {'titulo': 'El Retorno del Rey', 'autor': 'J.R.R.Tolkien', 'idioma': 'ingles', 'año_publicacion': '1954'}, {'titulo': 'El Hobbit', 'autor': 'J.R.R.Tolkien', 'idioma': 'ingles', 'año_publicacion': '1954'}]\n"
     ]
    }
   ],
   "source": [
    "libreria = [Libro_1, Libro_2, Libro_3, Libro_4]\n",
    "print(libreria)\n"
   ]
  },
  {
   "cell_type": "markdown",
   "metadata": {
    "id": "glMoedjYRWxJ"
   },
   "source": [
    "## Ejercicio 8\n",
    "Modifica los valores del idioma de todos los libros del ejercicio anterior para que sea \"esperanto\"\n"
   ]
  },
  {
   "cell_type": "code",
   "execution_count": 55,
   "metadata": {
    "id": "veNdC-uwRWxJ"
   },
   "outputs": [
    {
     "name": "stdout",
     "output_type": "stream",
     "text": [
      "{'titulo': 'El señor de los Anillos', 'autor': 'J.R.R.Tolkien', 'idioma': 'esperanto', 'año_publicacion': '1954'}\n",
      "{'titulo': 'Las dos Torres', 'autor': 'J.R.R.Tolkien', 'idioma': 'esperanto', 'año_publicacion': '1954'}\n",
      "{'titulo': 'El Retorno del Rey', 'autor': 'J.R.R.Tolkien', 'idioma': 'esperanto', 'año_publicacion': '1954'}\n",
      "{'titulo': 'El Hobbit', 'autor': 'J.R.R.Tolkien', 'idioma': 'esperanto', 'año_publicacion': '1954'}\n"
     ]
    }
   ],
   "source": [
    "Libro_1[\"idioma\"] = \"esperanto\"\n",
    "print(Libro_1)\n",
    "\n",
    "Libro_2[\"idioma\"] = \"esperanto\"\n",
    "print(Libro_2)\n",
    "\n",
    "Libro_3[\"idioma\"] = \"esperanto\"\n",
    "print(Libro_3)\n",
    "\n",
    "Libro_4[\"idioma\"] = \"esperanto\"\n",
    "print(Libro_4)"
   ]
  },
  {
   "cell_type": "markdown",
   "metadata": {
    "id": "DRCJG04KRWxJ"
   },
   "source": [
    "## Ejercicio 9\n",
    "1. Escribe un programa que dada una variable titulo busque los libros que hay en la librería con ese título. Si no se encuentra debe devolver el mensaje `Ese no lo tengo, ¿mola?`\n",
    "2. Pruena que el programa con uno de tus libros y con otro que no contenga tu librería."
   ]
  },
  {
   "cell_type": "code",
   "execution_count": 129,
   "metadata": {
    "id": "eWHdJi9BRWxJ"
   },
   "outputs": [],
   "source": [
    "def busqueda(titulo):\n",
    "    if titulo == \"Las dos Torres\":\n",
    "        print(\"Ese lo tengo\")\n",
    "    else: \n",
    "        print(\"Ese no lo tengo, ¿mola?\")\n",
    "            "
   ]
  },
  {
   "cell_type": "code",
   "execution_count": 131,
   "metadata": {},
   "outputs": [
    {
     "name": "stdout",
     "output_type": "stream",
     "text": [
      "Ese no lo tengo, ¿mola?\n",
      "Ese lo tengo\n"
     ]
    }
   ],
   "source": [
    "resultado1 = busqueda(\"El Hobbit\")\n",
    "\n",
    "resultado2 = busqueda(\"Las dos Torres\")\n"
   ]
  },
  {
   "cell_type": "markdown",
   "metadata": {
    "id": "17YOpYuFRWxJ"
   },
   "source": [
    "## Ejercicio 10\n",
    "Convierte el programa del ejercicio 2 en una función al que se le pase el valor a buscar como un argumento posicional"
   ]
  },
  {
   "cell_type": "code",
   "execution_count": null,
   "metadata": {
    "id": "xbj0LgvnRWxJ"
   },
   "outputs": [],
   "source": [
    "ejer_3 = [\"Un\", \"árbol\", \"binario\", \"es\", \"una\", \"estructura\", \"de\", \"un\", \"tipo\", \"particular\", \"a\", \"veces\", \"no\", \"es\", \"ni\", \"binario\"]\n",
    "\n"
   ]
  },
  {
   "cell_type": "markdown",
   "metadata": {
    "id": "xZ-sWJxPRWxJ"
   },
   "source": [
    "## Ejercicio 11\n",
    "Convierte el programa del ejercicio 9 en una función al que se le pasen como argumentos la librería, posicional, y el título, argumento keyword con valor \"ninguno\", por defecto."
   ]
  },
  {
   "cell_type": "code",
   "execution_count": null,
   "metadata": {
    "id": "4-JrsMdNRWxK"
   },
   "outputs": [],
   "source": []
  },
  {
   "cell_type": "markdown",
   "metadata": {
    "id": "FtJir95QRWxK"
   },
   "source": [
    "## Ejercicio 12\n",
    "Solicitar al usuario que ingrese su dirección email. Imprimir un mensaje indicando si la dirección es válida o no, valiéndose de una función para decidirlo. Una dirección se considerará válida si contiene el símbolo \"@\"."
   ]
  },
  {
   "cell_type": "code",
   "execution_count": 97,
   "metadata": {
    "id": "sk852IZ8RWxK"
   },
   "outputs": [],
   "source": [
    "def autorizar(email):\n",
    "    if solicitud == \"@\" in email:\n",
    "        resultado = True\n",
    "    else:\n",
    "        resultado = False\n",
    "    return(resultado)\n",
    "            "
   ]
  },
  {
   "cell_type": "code",
   "execution_count": 98,
   "metadata": {},
   "outputs": [
    {
     "name": "stdin",
     "output_type": "stream",
     "text": [
      "¿Podria introducir su direccion de email? elena@yahoo.es\n"
     ]
    },
    {
     "name": "stdout",
     "output_type": "stream",
     "text": [
      "False\n",
      "El email no es valido\n"
     ]
    }
   ],
   "source": [
    "pregunta = input (\"¿Podria introducir su direccion de email?\")\n",
    "\n",
    "autorizacion = autorizar(pregunta)\n",
    "print(autorizacion)\n",
    "\n",
    "if autorizacion == True:\n",
    "    print(\"El email es valido\")\n",
    "else:\n",
    "    print(\"El email no es valido\")"
   ]
  },
  {
   "cell_type": "markdown",
   "metadata": {
    "id": "Kw1MWBwBRWxK"
   },
   "source": [
    "## Ejercicio 13\n",
    "Escribe una función que compruebe si un DNI es válido, devolviendo `True` en caso afirmativo.  \n",
    "En primer lugar, el DNI debe tener entre 7 y 8 dígitos numéricos.  \n",
    "Para saber si la letra del DNI es correcta puedes utilizar el siguiente fragmento de código:\n",
    ">```Python\n",
    ">DNI= 55555555\n",
    ">palabra='TRWAGMYFPDXBNJZSQVHLCKE'\n",
    ">print('La letra del DNI es: ', palabra[DNI%23])\n",
    ">````\n"
   ]
  },
  {
   "cell_type": "code",
   "execution_count": 60,
   "metadata": {},
   "outputs": [
    {
     "name": "stdout",
     "output_type": "stream",
     "text": [
      "La letra del DNI es:  K\n"
     ]
    }
   ],
   "source": [
    "DNI= 55555555\n",
    "palabra='TRWAGMYFPDXBNJZSQVHLCKE'\n",
    "print('La letra del DNI es: ', palabra[DNI%23])"
   ]
  },
  {
   "cell_type": "code",
   "execution_count": 61,
   "metadata": {
    "id": "F5Z9rSHqRWxK"
   },
   "outputs": [],
   "source": [
    "def comprobacion(DNI):\n",
    "    if len(DNI) <7 or len(dni) > 8:\n",
    "        resultado = True\n",
    "    else:\n",
    "        resultado = False\n",
    "    return(resultado)"
   ]
  },
  {
   "cell_type": "code",
   "execution_count": 133,
   "metadata": {},
   "outputs": [
    {
     "name": "stdout",
     "output_type": "stream",
     "text": [
      "El DNI no es valido\n"
     ]
    }
   ],
   "source": [
    "if comprobacion == True:\n",
    "    print(\"El DNI es valido\")\n",
    "else:\n",
    "    print(\"El DNI no es valido\")\n"
   ]
  },
  {
   "cell_type": "code",
   "execution_count": null,
   "metadata": {},
   "outputs": [],
   "source": [
    "# Del Ejecicio 12 y 13 me falta un paso y no se cual es.."
   ]
  }
 ],
 "metadata": {
  "colab": {
   "provenance": []
  },
  "kernelspec": {
   "display_name": "Python 3 (ipykernel)",
   "language": "python",
   "name": "python3"
  },
  "language_info": {
   "codemirror_mode": {
    "name": "ipython",
    "version": 3
   },
   "file_extension": ".py",
   "mimetype": "text/x-python",
   "name": "python",
   "nbconvert_exporter": "python",
   "pygments_lexer": "ipython3",
   "version": "3.13.0"
  }
 },
 "nbformat": 4,
 "nbformat_minor": 4
}
