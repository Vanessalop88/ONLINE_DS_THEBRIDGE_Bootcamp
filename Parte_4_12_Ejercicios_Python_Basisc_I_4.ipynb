{
 "cells": [
  {
   "cell_type": "markdown",
   "metadata": {
    "id": "tFL3VjwhViIe"
   },
   "source": [
    "![TheBridge_logo_RGB_color.jpg](attachment:TheBridge_logo_RGB_color.jpg)"
   ]
  },
  {
   "cell_type": "markdown",
   "metadata": {
    "id": "ZSp_d0XMViIl"
   },
   "source": [
    "![imagen](./img/ejercicios.png)"
   ]
  },
  {
   "cell_type": "markdown",
   "metadata": {
    "id": "Pu14Fs2SViIn"
   },
   "source": [
    "## EJERCICIOS PYTHON BASICO 4:\n",
    "## Funciones, métodos, listas"
   ]
  },
  {
   "cell_type": "markdown",
   "metadata": {
    "id": "U9e4LjjvViIp"
   },
   "source": [
    "Completa los siguiente ejercicios, la solución completa a los mismos se publicarán en el repo del curso a lo largo del sprint. En algunos ejercicios se muestra la solución final, para que puedas comprobar que lo has hecho bien, pero lo importante es el código que generes. ¡Vaaamos, a ello...!"
   ]
  },
  {
   "cell_type": "markdown",
   "metadata": {
    "id": "jrIxbDlgViIr"
   },
   "source": [
    "![ejercicio.png](./img/ejercicio.png)\n",
    "\n",
    "## Ejercicio 1\n",
    "Para este ejercicio vamos a poner en práctica [las funciones built in](https://docs.python.org/3/library/functions.html).\n",
    "\n",
    "1. Calcula el máximo de la lista: [4, 6, 8, -1]\n",
    "2. Suma todos los elementos de la lista anterior\n",
    "3. Redondea este float a 3 dígitos decimales: 63.451256965\n",
    "4. Valor absoluto de: -74"
   ]
  },
  {
   "cell_type": "code",
   "execution_count": 11,
   "metadata": {
    "id": "4mRMIZdUViIs"
   },
   "outputs": [
    {
     "name": "stdout",
     "output_type": "stream",
     "text": [
      "8\n",
      "17\n",
      "63.451\n",
      "74\n"
     ]
    }
   ],
   "source": [
    "Lista =  [4, 6, 8, -1]\n",
    "# Calcular máximo\n",
    "max1 = max(4, 6, 8, -1)\n",
    "print(max1)\n",
    "\n",
    "# Sumar todos los elementos\n",
    "suma2 = sum(Lista)\n",
    "print(suma2)\n",
    "\n",
    "# Redondear a 3 digitos\n",
    "cifra = 63.451256965\n",
    "redondeo = round(63.451256965, 3)\n",
    "print(redondeo)\n",
    "\n",
    "# Valor absoluto\n",
    "absoluto = abs(-74)\n",
    "print(absoluto)"
   ]
  },
  {
   "cell_type": "code",
   "execution_count": null,
   "metadata": {},
   "outputs": [],
   "source": []
  },
  {
   "cell_type": "markdown",
   "metadata": {
    "id": "TwYgUH3gViIu"
   },
   "source": [
    "![ejercicio.png](./img/ejercicio.png)\n",
    "\n",
    "## Ejercicio 2\n",
    "Para el siguiente string se pide imprimir por pantalla los siguientes casos\n",
    "\n",
    "    \"En un lugar de la Mancha, de cuyo nombre no quiero acordarme.\"\n",
    "\n",
    "1. Pásalo todo a mayúsculas\n",
    "2. Pásalo todo a minúsculas\n",
    "3. Solo la primera letra de cada palabra en mayúscula, el resto en minúscula\n",
    "4. Crea una lista dividiéndolo por sus espacios\n",
    "5. Sustituye las comas `,` por puntos y comas `;`\n",
    "6. Elimina las `a` minúsculas"
   ]
  },
  {
   "cell_type": "code",
   "execution_count": 5,
   "metadata": {
    "id": "gVE1wh1KViIx",
    "outputId": "37ebedce-8385-4211-87df-d8a86c7f64b2"
   },
   "outputs": [
    {
     "name": "stdout",
     "output_type": "stream",
     "text": [
      "EN UN LUGAR DE LA MANCHA, DE CUYO NOMBRE NO QUIERO ACORDARME.\n",
      "en un lugar de la mancha, de cuyo nombre no quiero acordarme.\n",
      "En Un Lugar De La Mancha, De Cuyo Nombre No Quiero Acordarme.\n",
      "['En', 'un', 'lugar', 'de', 'la', 'Mancha,', 'de', 'cuyo', 'nombre', 'no', 'quiero', 'acordarme.']\n",
      "En un lugar de la Mancha; de cuyo nombre no quiero acordarme.\n",
      "En un lugr de l Mnch, de cuyo nombre no quiero cordrme.\n"
     ]
    }
   ],
   "source": [
    "frase = \"En un lugar de la Mancha, de cuyo nombre no quiero acordarme.\"\n",
    "\n",
    "# 1. Pasar a mayúsculas\n",
    "print(frase.upper())\n",
    "\n",
    "# 2. Pasar a minúsculas\n",
    "print(frase.lower())\n",
    "\n",
    "# 3. Algunas letras en mayúsculas y otras en minúsculas.\n",
    "print(frase.title())\n",
    "\n",
    "# 4. Crear una lista dividiéndolo por sus espacios.\n",
    "print(frase.split())\n",
    "\n",
    "# 5.Sustituir comas por puntos y coma.\n",
    "print(frase.replace(\",\", \";\"))\n",
    "\n",
    "# 6.Eliminar las \"a\" minúsculas, por hora solo las \"a\"\n",
    "print(frase.replace(\"a\", \"\"))"
   ]
  },
  {
   "cell_type": "markdown",
   "metadata": {
    "id": "L1bOsmQwViI0"
   },
   "source": [
    "![ejercicio.png](./img/ejercicio.png)\n",
    "\n",
    "## Ejercicio 3\n",
    "1. Crea una lista con 3 elementos numéricos\n",
    "2. Añade un cuarto elemento\n",
    "3. Calcula la suma de todos\n",
    "4. Elimina el segundo elemento de la lista\n",
    "5. Añade otro elemento en la posicion 3 de la lista\n",
    "6. Crea otra lista con 4 elementos y concaténala a la que ya tenías.\n",
    "7. Ordena la lista de menor a mayor.\n",
    "8. BONUS: Ordena la lista de mayor a menor.  \n",
    "(*PISTA: Para hacer 8, tendrás que buscar en la información del método...*)  \n",
    "  \n",
    "  \n",
    "NOTA: Pinta por pantalla el resultado de cada paso."
   ]
  },
  {
   "cell_type": "code",
   "execution_count": 1,
   "metadata": {
    "id": "hQ3ZfUD7ViI1",
    "outputId": "cadbf729-f962-46cc-de29-daac90adf4bb",
    "scrolled": true
   },
   "outputs": [
    {
     "name": "stdout",
     "output_type": "stream",
     "text": [
      "[1, 2, 3]\n",
      "[1, 2, 3, 4]\n",
      "10\n",
      "[1, 2, 4]\n",
      "[1, 2, 4, 5]\n",
      "[1, 2, 4, 5, 9, 8, 7, 6]\n",
      "[1, 2, 4, 5, 6, 7, 8, 9]\n",
      "[9, 8, 7, 6, 5, 4, 2, 1]\n"
     ]
    }
   ],
   "source": [
    "# 1. Crea una lista con 3 elementos numéricos\n",
    "lista3 = [1, 2, 3]\n",
    "print(lista3)\n",
    "\n",
    "# 2. Añade un cuarto elemento\n",
    "lista3.append(4)\n",
    "print(lista3)\n",
    "\n",
    "# 3. Calcula la suma de todos\n",
    "suma = sum(lista3)\n",
    "print(suma)\n",
    "\n",
    "# 4. Elimina el segundo elemento de la lista\n",
    "lista3.pop(2)\n",
    "print(lista3)\n",
    "\n",
    "# 5. Añade otro elemento en la posicion 3 de la lista\n",
    "lista3.insert(3, 5)\n",
    "print(lista3)\n",
    "\n",
    "# 6. Crea otra lista con 4 elementos y concaténala a la que ya tenías.\n",
    "lista4 = [9, 8, 7, 6]\n",
    "print(lista3 + lista4)\n",
    "\n",
    "# 7. Ordena la lista de menor a mayor.\n",
    "lista_total = lista3 + lista4\n",
    "lista_total.sort()\n",
    "print(lista_total)\n",
    "\n",
    "# 8. BONUS: Ordena la lista de mayor a menor.\n",
    "lista_total.sort(reverse=True)\n",
    "print(lista_total)"
   ]
  },
  {
   "cell_type": "code",
   "execution_count": null,
   "metadata": {},
   "outputs": [],
   "source": []
  }
 ],
 "metadata": {
  "colab": {
   "provenance": []
  },
  "kernelspec": {
   "display_name": "Python 3 (ipykernel)",
   "language": "python",
   "name": "python3"
  },
  "language_info": {
   "codemirror_mode": {
    "name": "ipython",
    "version": 3
   },
   "file_extension": ".py",
   "mimetype": "text/x-python",
   "name": "python",
   "nbconvert_exporter": "python",
   "pygments_lexer": "ipython3",
   "version": "3.13.0"
  }
 },
 "nbformat": 4,
 "nbformat_minor": 4
}
